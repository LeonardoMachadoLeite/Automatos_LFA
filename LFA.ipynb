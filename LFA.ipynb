{
 "cells": [
  {
   "cell_type": "code",
   "execution_count": 94,
   "metadata": {},
   "outputs": [],
   "source": [
    "import copy\n",
    "\n",
    "class Estado(object):\n",
    "    \n",
    "    \n",
    "    def __init__(self, nome, transicoes, eh_final=False, eh_inicial=False):\n",
    "        \n",
    "        assert type(nome) == str\n",
    "        assert type(transicoes) == dict\n",
    "        assert type(eh_final) == bool\n",
    "        assert type(eh_inicial) == bool\n",
    "        \n",
    "        self.nome = nome\n",
    "        self.eh_final = eh_final\n",
    "        self.eh_inicial = eh_inicial\n",
    "        self.transicoes = transicoes # as chaves representam o input lido e as chaves são os nomes dos estados ao ler o input\n",
    "    \n",
    "    \n",
    "    def entrada(self, valor):\n",
    "        assert type(valor) == str\n",
    "        return self.transicoes[valor]\n",
    "    \n",
    "    def __str__(self):\n",
    "        return self.nome + str(self.transicoes)\n",
    "    \n",
    "    def __repr__(self):\n",
    "        return self.nome\n",
    "    \n",
    "    def __eq__(self,other):\n",
    "        assert type(other) == Estado\n",
    "        return self.nome == other.nome and self.transicoes == other.transicoes and (self.eh_final == other.eh_final) and (self.eh_inicial == other.eh_inicial)\n",
    "    \n",
    "    def deepcopy(self):\n",
    "        return Estado(self.nome, self.transicoes,self.eh_final,self.eh_inicial)\n",
    "        \n",
    "    \n",
    "class AFD(object):\n",
    "    \n",
    "    \n",
    "    def __init__(self, estados, estado_inicial, alfabeto):\n",
    "        \n",
    "        assert type(estados) == dict\n",
    "        all(isinstance(e, Estado) for e in estados)\n",
    "        assert type(estado_inicial) == Estado\n",
    "        assert estado_inicial.eh_inicial\n",
    "        assert estado_inicial == estados[estado_inicial.nome]\n",
    "        assert type(alfabeto) == list\n",
    "        all(isinstance(s, str) for s in alfabeto)\n",
    "        \n",
    "        self.estado_inicial = estado_inicial\n",
    "        self.estados = estados\n",
    "        self.alfabeto = alfabeto\n",
    "    \n",
    "    \n",
    "    def entrada(self,valor):\n",
    "        \n",
    "        assert type(valor) == str\n",
    "        \n",
    "        q_atual = self.estado_inicial\n",
    "        for caracter in valor:\n",
    "            q_atual = self.estados[q_atual.entrada(caracter)] # Troca o estado atual pelo prox estado dado o input atual\n",
    "        \n",
    "        if q_atual.eh_final:\n",
    "            print('Entrada aceita!')\n",
    "        else:\n",
    "            print('Entrada rejeitada!')\n",
    "        print('Estado final: ',q_atual)\n",
    "        \n",
    "        return q_atual.deepcopy()\n",
    "    \n",
    "    \n",
    "    def __str__(self):\n",
    "        ans = 'AFD'\n",
    "        for q in self.estados.values():\n",
    "            ans += '\\n'\n",
    "            ans += str(q)\n",
    "        return ans\n",
    "    \n",
    "    def equivalente(self, estado1, estado2):\n",
    "        \n",
    "        assert type(estado1) == Estado and type(estado2) == Estado\n",
    "        \n",
    "        if estado1.eh_final != estado2.eh_final:\n",
    "            return False\n",
    "        elif estado1.transicoes == estado2.transicoes:\n",
    "            return True\n",
    "        else:\n",
    "            ans = {}\n",
    "            for a in self.alfabeto:\n",
    "                ans[a] = (estado1.transicoes[a],estado2.transicoes[a])\n",
    "            return ans\n",
    "    \n",
    "    def compare(self,tup1,tup2):\n",
    "        \n",
    "        assert type(tup1) == tuple\n",
    "        assert type(tup2) == tuple\n",
    "        assert len(tup1) == 2\n",
    "        assert len(tup2) == 2\n",
    "        \n",
    "        return (tup1[0] == tup2[0] and tup1[1] == tup2[1]) or (tup1[0] == tup2[1] and tup1[1] == tup2[0])\n",
    "    \n",
    "    def estados_equivalentes(self):\n",
    "        \n",
    "        verif = []\n",
    "        equiv = []\n",
    "        nequiv = []\n",
    "        pendentes = []\n",
    "        \n",
    "        for e1 in self.estados.values():\n",
    "            for e2 in self.estados.values():\n",
    "                if e1 == e2 or e2 in verif:\n",
    "                    continue\n",
    "                else:\n",
    "                    res = self.equivalente(e1,e2)\n",
    "                    if type(res) == bool:\n",
    "                        if res:\n",
    "                            equiv.append((e1.nome,e2.nome))\n",
    "                        else:\n",
    "                            nequiv.append((e1.nome,e2.nome))\n",
    "                    else:\n",
    "                        pendentes.append((e1.nome,e2.nome,res))\n",
    "            verif.append(e1)\n",
    "        \n",
    "        copy_p = copy.deepcopy(pendentes)\n",
    "        copy_n = copy.deepcopy(nequiv)\n",
    "        \n",
    "        for p in copy_p:\n",
    "            \n",
    "            naoequivalente = False\n",
    "            for a in self.alfabeto:\n",
    "                if naoequivalente:\n",
    "                    break\n",
    "                for ne in copy_n:\n",
    "                    if self.compare(p[2][a],ne):\n",
    "                        pendentes.remove(p)\n",
    "                        nequiv.append((p[0],p[1]))\n",
    "                        naoequivalente = True\n",
    "                        break\n",
    "        \n",
    "        copy_p = copy.deepcopy(pendentes)\n",
    "        for p in copy_p:\n",
    "            equiv.append((p[0],p[1]))\n",
    "            pendentes.remove(p)\n",
    "        \n",
    "        return {'equivalentes':equiv, 'nao_equivalentes':nequiv}\n",
    "    "
   ]
  },
  {
   "cell_type": "code",
   "execution_count": 95,
   "metadata": {},
   "outputs": [],
   "source": [
    "\n",
    "q0 = Estado('q0',{'0':'q1','1':'q2'},eh_inicial=True,eh_final=False)\n",
    "q1 = Estado('q1',{'0':'q3','1':'q4'},eh_inicial=False,eh_final=False)\n",
    "q2 = Estado('q2',{'0':'q3','1':'q4'},eh_inicial=False,eh_final=False)\n",
    "q3 = Estado('q3',{'0':'q1','1':'q4'},eh_inicial=False,eh_final=False)\n",
    "q4 = Estado('q4',{'0':'q4','1':'q4'},eh_inicial=False,eh_final=True)\n",
    "\n",
    "estados = {'q0':q0,'q1':q1,'q2':q2,'q3':q3,'q4':q4}\n",
    "\n",
    "afd = AFD(estados,q0,['0','1'])"
   ]
  },
  {
   "cell_type": "code",
   "execution_count": 32,
   "metadata": {},
   "outputs": [
    {
     "data": {
      "text/plain": [
       "'[q0, q1, q2, q3, q4]'"
      ]
     },
     "execution_count": 32,
     "metadata": {},
     "output_type": "execute_result"
    }
   ],
   "source": [
    "afd.str_estados_array(estados.values())"
   ]
  },
  {
   "cell_type": "code",
   "execution_count": 4,
   "metadata": {},
   "outputs": [
    {
     "name": "stdout",
     "output_type": "stream",
     "text": [
      "AFD\n",
      "q0{'0': 'q1', '1': 'q2'}\n",
      "q1{'0': 'q3', '1': 'q4'}\n",
      "q2{'0': 'q3', '1': 'q4'}\n",
      "q3{'0': 'q1', '1': 'q4'}\n",
      "q4{'0': 'q4', '1': 'q4'}\n"
     ]
    }
   ],
   "source": [
    "print(afd)"
   ]
  },
  {
   "cell_type": "code",
   "execution_count": 5,
   "metadata": {},
   "outputs": [
    {
     "name": "stdout",
     "output_type": "stream",
     "text": [
      "Entrada rejeitada!\n",
      "Estado final:  q0{'0': 'q1', '1': 'q2'}\n",
      "q0{'0': 'q1', '1': 'q2'}\n"
     ]
    }
   ],
   "source": [
    "print(afd.entrada(''))"
   ]
  },
  {
   "cell_type": "code",
   "execution_count": 96,
   "metadata": {},
   "outputs": [
    {
     "name": "stdout",
     "output_type": "stream",
     "text": [
      "Equivalentes:  [('q1', 'q2'), ('q1', 'q3'), ('q2', 'q3')]\n",
      "Nao equivalentes:  [('q0', 'q4'), ('q1', 'q4'), ('q2', 'q4'), ('q3', 'q4'), ('q0', 'q1'), ('q0', 'q2'), ('q0', 'q3')]\n",
      "Pendentes: [\n",
      "]\n"
     ]
    }
   ],
   "source": [
    "afd.estados_equivalentes()"
   ]
  }
 ],
 "metadata": {
  "kernelspec": {
   "display_name": "Python 3",
   "language": "python",
   "name": "python3"
  },
  "language_info": {
   "codemirror_mode": {
    "name": "ipython",
    "version": 3
   },
   "file_extension": ".py",
   "mimetype": "text/x-python",
   "name": "python",
   "nbconvert_exporter": "python",
   "pygments_lexer": "ipython3",
   "version": "3.7.3"
  }
 },
 "nbformat": 4,
 "nbformat_minor": 2
}
